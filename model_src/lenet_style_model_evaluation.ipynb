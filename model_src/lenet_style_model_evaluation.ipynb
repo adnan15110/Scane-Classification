{
 "cells": [
  {
   "cell_type": "code",
   "execution_count": 1,
   "metadata": {
    "collapsed": false
   },
   "outputs": [],
   "source": [
    "import numpy as np\n",
    "import lmdb,os,sys,math\n",
    "caffe_root = '/gpu1/adnan/caffe/'  # this file is expected to be in {caffe_root}/examples\n",
    "sys.path.insert(0, caffe_root + 'python')\n",
    "import caffe\n",
    "\n",
    "import caffe.proto.caffe_pb2\n",
    "from  caffe.io import datum_to_array\n",
    "\n",
    "import matplotlib.pyplot as plt\n",
    "%matplotlib inline\n",
    "\n",
    "plt.rcParams['figure.figsize'] = (10, 10)\n",
    "plt.rcParams['image.interpolation'] = 'nearest'\n",
    "plt.rcParams['image.cmap'] = 'gray'\n",
    "\n",
    "caffe.set_mode_gpu()"
   ]
  },
  {
   "cell_type": "code",
   "execution_count": 2,
   "metadata": {
    "collapsed": false
   },
   "outputs": [],
   "source": [
    "net = caffe.Net(caffe_root + 'examples/scene-regression/model_src/regression_model_deploy.prototxt',\n",
    "                caffe_root + 'examples/scene-regression/model_src/caffe_models/lenet_models/regression_test_iter_1000.caffemodel',\n",
    "                caffe.TEST)"
   ]
  },
  {
   "cell_type": "code",
   "execution_count": 29,
   "metadata": {
    "collapsed": false
   },
   "outputs": [
    {
     "name": "stdout",
     "output_type": "stream",
     "text": [
      "(640, 640, 3)\n"
     ]
    }
   ],
   "source": [
    "#####################################\n",
    "#test shell\n",
    "####################################\n",
    "print np.load('image_mean.npy').reshape(640,640,3).shape"
   ]
  },
  {
   "cell_type": "code",
   "execution_count": 35,
   "metadata": {
    "collapsed": false
   },
   "outputs": [],
   "source": [
    "transformer = caffe.io.Transformer({'data': net.blobs['data'].data.shape}) # getshape of the imput \"data\" layer \n",
    "transformer.set_transpose('data', (2,0,1)) # change to bgr to rgb\n",
    "transformer.set_mean('data', np.load('image_mean.npy')) # mean pixel, set mean.npy\n",
    "#transformer.set_raw_scale('data', 255)  # the model operates on images in [0,255] range instead of [0,1]\n",
    "#transformer.set_channel_swap('data', (2,1,0))  # the model has channels in BGR order instead of RGB"
   ]
  },
  {
   "cell_type": "code",
   "execution_count": 38,
   "metadata": {
    "collapsed": false,
    "scrolled": true
   },
   "outputs": [],
   "source": [
    "####################################\n",
    "# load \"images\" list \n",
    "####################################\n",
    "images=[]\n",
    "LMDB_FILE_NAME = \"test_data_lmdb\"\n",
    "LMDB_PATH = os.path.join(os.getcwd(),'..','LMDB_612',LMDB_FILE_NAME)\n",
    "env = lmdb.open(LMDB_PATH, readonly=True, lock=False)\n",
    "\n",
    "visualize = False\n",
    "number_of_images = 60\n",
    "datum = caffe.proto.caffe_pb2.Datum() #datum_pb2.Datum()\n",
    "\n",
    "with env.begin() as txn:\n",
    "    cur = txn.cursor()\n",
    "    for i in xrange(number_of_images):\n",
    "        if not cur.next():\n",
    "            cur.first()\n",
    "        key, value = cur.item()\n",
    "        datum.ParseFromString(value)\n",
    "        img_data = datum_to_array(datum)\n",
    "       \n",
    "        if visualize:\n",
    "            plt.imshow(img_data.transpose([1,2,0]))\n",
    "            plt.show()\n",
    "        else:\n",
    "            #print type(img_data)#.shape\n",
    "            images.append(img_data) # image in BGR"
   ]
  },
  {
   "cell_type": "code",
   "execution_count": 39,
   "metadata": {
    "collapsed": false
   },
   "outputs": [],
   "source": [
    "####################################\n",
    "# load \"scores\" list \n",
    "####################################\n",
    "scores=[]\n",
    "LMDB_FILE_NAME = \"test_score_lmdb\"\n",
    "LMDB_PATH = os.path.join('..','LMDB_612',LMDB_FILE_NAME)\n",
    "env = lmdb.open(LMDB_PATH, readonly=True, lock=False)\n",
    "\n",
    "visualize = False\n",
    "number_of_images = 60\n",
    "datum = caffe.proto.caffe_pb2.Datum() #datum_pb2.Datum()\n",
    "\n",
    "with env.begin() as txn:\n",
    "    cur = txn.cursor()\n",
    "    for i in xrange(number_of_images):\n",
    "        if not cur.next():\n",
    "            cur.first()\n",
    "        key, value = cur.item()\n",
    "        datum.ParseFromString(value)\n",
    "        score_data = datum_to_array(datum)\n",
    "        #print score_data.reshape(1)[0]\n",
    "        scores.append(float(score_data.reshape(1)[0])) # image in BGR"
   ]
  },
  {
   "cell_type": "code",
   "execution_count": 40,
   "metadata": {
    "collapsed": false
   },
   "outputs": [],
   "source": [
    "actual=[]\n",
    "predicted=[]\n",
    "\n",
    "for img,score in zip(images,scores):\n",
    "    img = np.swapaxes(img,0,1)\n",
    "    img = np.swapaxes(img,1,2)\n",
    "    net.blobs['data'].data[0] = transformer.preprocess('data', img)\n",
    "    out = net.forward()\n",
    "    predicted.append(out['ip2'][0][0])\n",
    "    actual.append(score)\n"
   ]
  },
  {
   "cell_type": "code",
   "execution_count": 56,
   "metadata": {
    "collapsed": false
   },
   "outputs": [
    {
     "name": "stdout",
     "output_type": "stream",
     "text": [
      "\n",
      "MSE : mean square error\n",
      "\n",
      "     Mean:   0.00793423\n",
      "      STD:   0.01053546\n",
      "      Max:   0.05218469\n",
      "      Min:   0.00000017\n",
      "      \n",
      "\n"
     ]
    }
   ],
   "source": [
    "a = np.array(actual,dtype=float)\n",
    "p = np.array(predicted,dtype=float)\n",
    "\n",
    "diff= np.array((a - p) ** 2)\n",
    "\n",
    "print \"\"\"\n",
    "MSE : mean square error\n",
    "\n",
    "     Mean: %12.8f\n",
    "      STD: %12.8f\n",
    "      Max: %12.8f\n",
    "      Min: %12.8f\n",
    "      \n",
    "\"\"\"%(np.mean(diff),np.std(diff),np.max(diff),np.min(diff))\n",
    "\n"
   ]
  },
  {
   "cell_type": "code",
   "execution_count": null,
   "metadata": {
    "collapsed": true
   },
   "outputs": [],
   "source": []
  }
 ],
 "metadata": {
  "kernelspec": {
   "display_name": "Python 2",
   "language": "python",
   "name": "python2"
  },
  "language_info": {
   "codemirror_mode": {
    "name": "ipython",
    "version": 2
   },
   "file_extension": ".py",
   "mimetype": "text/x-python",
   "name": "python",
   "nbconvert_exporter": "python",
   "pygments_lexer": "ipython2",
   "version": "2.7.6"
  }
 },
 "nbformat": 4,
 "nbformat_minor": 0
}
