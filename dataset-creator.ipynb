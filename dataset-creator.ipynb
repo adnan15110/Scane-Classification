{
 "cells": [
  {
   "cell_type": "raw",
   "metadata": {},
   "source": [
    "Task:\n",
    "    - read the csv file \n",
    "    - download image separate them into training, test and validation dataset."
   ]
  },
  {
   "cell_type": "code",
   "execution_count": 16,
   "metadata": {
    "collapsed": false
   },
   "outputs": [
    {
     "data": {
      "text/plain": [
       "0.50294268497489492"
      ]
     },
     "execution_count": 16,
     "metadata": {},
     "output_type": "execute_result"
    }
   ],
   "source": [
    "from data_reader import DataReader\n",
    "datareader = DataReader('dataset.csv')\n",
    "datareader.csvReader()\n",
    "datareader.calculateAverageScore()"
   ]
  },
  {
   "cell_type": "raw",
   "metadata": {},
   "source": [
    "Ratio of train, test and validator dataset"
   ]
  },
  {
   "cell_type": "code",
   "execution_count": 13,
   "metadata": {
    "collapsed": false
   },
   "outputs": [
    {
     "name": "stdout",
     "output_type": "stream",
     "text": [
      "['c', 'a', 'b']\n"
     ]
    }
   ],
   "source": [
    "from random import shuffle\n",
    "a = list(['a','b','c'])\n",
    "b=['d','e']\n",
    "print a+b"
   ]
  },
  {
   "cell_type": "code",
   "execution_count": 15,
   "metadata": {
    "collapsed": false
   },
   "outputs": [
    {
     "ename": "SyntaxError",
     "evalue": "invalid syntax (<ipython-input-15-786d20051a32>, line 31)",
     "output_type": "error",
     "traceback": [
      "\u001b[0;36m  File \u001b[0;32m\"<ipython-input-15-786d20051a32>\"\u001b[0;36m, line \u001b[0;32m31\u001b[0m\n\u001b[0;31m    for img_name, score in zip(self.img_names,self.cls_labels)\u001b[0m\n\u001b[0m                                                              ^\u001b[0m\n\u001b[0;31mSyntaxError\u001b[0m\u001b[0;31m:\u001b[0m invalid syntax\n"
     ]
    }
   ],
   "source": [
    "from random import shuffle\n",
    "import os\n",
    "class trainTestandValidationDataCreator:\n",
    "    def __init__(self):\n",
    "        self.meanscore = 0.50294268497489492 # output from DataReader.calculateAverageScore()\n",
    "        self.per_train = .6\n",
    "        self.per_test = .2\n",
    "        self.per_validation = .2\n",
    "        self.img_names=[]\n",
    "        self.cls_labels=[]\n",
    "        self.labels_file = 'labels.txt'\n",
    "        \n",
    "    def createListOfImagesAndLabels(self):\n",
    "        '''\n",
    "        populates img_names=[] and scores=[]\n",
    "        score < mean == class 0\n",
    "        score > mean == class 1 \n",
    "        '''\n",
    "        f = open(self.labels_file,'r')\n",
    "        for line in f.readlines():\n",
    "            img_name,score = line.strip().split(',')\n",
    "            self.img_names.append(img_name)\n",
    "            cls_label = 0 if float(score) < self.meanscore else 1\n",
    "            self.cls_labels.append(cls_label)\n",
    "        f.close()\n",
    "\n",
    "    def createBalanceDataSet(self):\n",
    "        cls_one_imgs = [] # < mean\n",
    "        cls_two_imgs = [] # > means\n",
    "        \n",
    "        for img_name, score in zip(self.img_names,self.cls_labels):\n",
    "            if score == 0:\n",
    "                cls_one_img.append(img_name)\n",
    "            else:\n",
    "                cls_two_img.append(img_name)\n",
    "        \n",
    "        #shuffling the dataset\n",
    "        shuffle(cls_one_imgs)\n",
    "        shuffle(cls_two_imgs)\n",
    "        \n",
    "        #storage for training_datasets\n",
    "        training_datasets= []\n",
    "        training_labels= []\n",
    "        validation_datasets = []\n",
    "        validation_labels = []\n",
    "        test_datasets= []\n",
    "        test_labels =[]\n",
    "        \n",
    "        # creating dataset for class 0\n",
    "        total_class_one = len(cls_one_imgs)\n",
    "        num_training_img = int(total_class_one*self.per_train)\n",
    "        num_test_img = int(total_class_one*self.per_test)\n",
    "        num_val_img = total_class_one-num_training_img-num_test_img\n",
    "        \n",
    "        training_datasets +=cls_one_imgs[:num_training_img+1]\n",
    "        training_labels += [0]*num_training_img\n",
    "        \n",
    "        test_datasets+= cls_one_imgs[num_training_img+1:num_training_img+1+num_test_img]\n",
    "        test_labels+=[0]*num_test_img\n",
    "        \n",
    "        validation_datasets += cls_one_imgs[num_training_img+1+num_test_img:]\n",
    "        validation_labels += [0]*num_val_img\n",
    "        \n",
    "        # creating dataset for class 0\n",
    "        total_class_two = len(cls_two_imgs)\n",
    "        num_training_img = int(total_class_two*self.per_train)\n",
    "        num_test_img = int(total_class_two*self.per_test)\n",
    "        num_val_img = total_class_two-num_training_img-num_test_img\n",
    "        \n",
    "        training_datasets +=cls_two_imgs[:num_training_img+1]\n",
    "        training_labels += [1]*num_training_img\n",
    "        \n",
    "        test_datasets+= cls_two_imgs[num_training_img+1:num_training_img+1+num_test_img]\n",
    "        test_labels+=[1]*num_test_img\n",
    "        \n",
    "        validation_datasets += cls_two_imgs[num_training_img+1+num_test_img:]\n",
    "        validation_labels += [1]*num_val_img\n",
    "        \n",
    "        return training_datasets,training_labels,test_datasets,test_labels,validation_datasets,validation_labels               \n",
    "        \n",
    "    def createDatasetForClassificationProblem(self):\n",
    "        '''\n",
    "        create folder and move images to particular folder\n",
    "        \n",
    "        -classification_datasets\n",
    "            -train\n",
    "                -class1\n",
    "                -class2\n",
    "            -test\n",
    "                -class1\n",
    "                -class2\n",
    "            -validation\n",
    "                -class1\n",
    "                -class2\n",
    "        \n",
    "        '''\n",
    "        training_datasets,training_labels,test_datasets,test_labels,validation_datasets,\\\n",
    "        validation_labels = self.createBalanceDataSet()\n",
    "        \n",
    "        train_dataset_folder_path = os.path.join(os.getcwd(),'train')\n",
    "        test_dataset_folder_path = os.path.join(os.getcwd(),'test')\n",
    "        val_dataset_folder_path = os.path.join(os.getcwd(),'val')\n",
    "        \n",
    "        for img,label in zip(training_datasets,training_labels):\n",
    "            if la\n",
    "        \n",
    "        \n",
    "    "
   ]
  },
  {
   "cell_type": "code",
   "execution_count": null,
   "metadata": {
    "collapsed": true
   },
   "outputs": [],
   "source": []
  }
 ],
 "metadata": {
  "kernelspec": {
   "display_name": "Python 2",
   "language": "python",
   "name": "python2"
  },
  "language_info": {
   "codemirror_mode": {
    "name": "ipython",
    "version": 2
   },
   "file_extension": ".py",
   "mimetype": "text/x-python",
   "name": "python",
   "nbconvert_exporter": "python",
   "pygments_lexer": "ipython2",
   "version": "2.7.6"
  }
 },
 "nbformat": 4,
 "nbformat_minor": 0
}
